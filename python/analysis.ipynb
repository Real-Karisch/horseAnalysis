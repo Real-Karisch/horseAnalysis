{
 "metadata": {
  "language_info": {
   "codemirror_mode": {
    "name": "ipython",
    "version": 3
   },
   "file_extension": ".py",
   "mimetype": "text/x-python",
   "name": "python",
   "nbconvert_exporter": "python",
   "pygments_lexer": "ipython3",
   "version": "3.8.5"
  },
  "orig_nbformat": 4,
  "kernelspec": {
   "name": "python3",
   "display_name": "Python 3.8.5 64-bit ('base': conda)"
  },
  "interpreter": {
   "hash": "e7ad3e331d89125a35e1aa51e4cbfadb7339476d992231fff57158d187b2117c"
  }
 },
 "nbformat": 4,
 "nbformat_minor": 2,
 "cells": [
  {
   "cell_type": "code",
   "execution_count": 1,
   "metadata": {},
   "outputs": [],
   "source": [
    "import numpy as np\n",
    "import pandas as pd"
   ]
  },
  {
   "cell_type": "code",
   "execution_count": 2,
   "metadata": {},
   "outputs": [
    {
     "output_type": "stream",
     "name": "stderr",
     "text": [
      "/home/karisch/anaconda3/lib/python3.8/site-packages/IPython/core/interactiveshell.py:3146: DtypeWarning: Columns (12) have mixed types.Specify dtype option on import or set low_memory=False.\n  has_raised = await self.run_ast_nodes(code_ast.body, cell_name,\n"
     ]
    }
   ],
   "source": [
    "horses = pd.read_csv('./../data/horses.csv')\n",
    "races = pd.read_csv('./../data/races.csv')"
   ]
  },
  {
   "cell_type": "code",
   "execution_count": 19,
   "metadata": {},
   "outputs": [],
   "source": [
    "horses['placeFin'] = pd.Series([np.nan] * horses.shape[0])\n",
    "for i in reversed(range(1, 7)):\n",
    "    horses.loc[horses['placeFin'].isnull(),'placeFin'] = horses.loc[horses['placeFin'].isnull(), 'placeSeg' + str(i)]"
   ]
  },
  {
   "cell_type": "code",
   "execution_count": 3,
   "metadata": {},
   "outputs": [],
   "source": [
    "horses = horses.sort_values(by=['date', 'track', 'race', 'odds'])"
   ]
  },
  {
   "cell_type": "code",
   "execution_count": 28,
   "metadata": {},
   "outputs": [],
   "source": [
    "df = horses\n",
    "flagColName = 'newRace'\n",
    "cols = ['date', 'track', 'race']\n",
    "flagged = flagNew(df, flagColName, cols)"
   ]
  },
  {
   "cell_type": "code",
   "execution_count": 29,
   "metadata": {},
   "outputs": [],
   "source": [
    "flagged['oddsRank'] = pd.Series([0] * flagged.shape[0])\n",
    "indices = flagged['newRace'].copy()\n",
    "for i in range(1, 25):\n",
    "    flagged.loc[indices & (flagged['oddsRank'] == 0), 'oddsRank'] = i\n",
    "    indices = pd.concat([pd.Series(False), indices])\n",
    "    indices = indices[:-1]\n",
    "    indices.index = flagged.index"
   ]
  },
  {
   "cell_type": "code",
   "execution_count": 31,
   "metadata": {},
   "outputs": [],
   "source": [
    "flagged.head(1000).to_csv('penis.csv')"
   ]
  },
  {
   "cell_type": "code",
   "execution_count": 15,
   "metadata": {},
   "outputs": [],
   "source": [
    "jack = flagged['newRace'].copy()\n",
    "jack = pd.concat([pd.Series(False), jack])\n",
    "jack = jack[:-1]"
   ]
  },
  {
   "cell_type": "code",
   "execution_count": 16,
   "metadata": {},
   "outputs": [
    {
     "output_type": "execute_result",
     "data": {
      "text/plain": [
       "0         False\n",
       "115159     True\n",
       "115157    False\n",
       "115158    False\n",
       "115161    False\n",
       "          ...  \n",
       "117433    False\n",
       "117441    False\n",
       "117440    False\n",
       "117434    False\n",
       "117439    False\n",
       "Length: 356260, dtype: object"
      ]
     },
     "metadata": {},
     "execution_count": 16
    }
   ],
   "source": [
    "jack"
   ]
  },
  {
   "cell_type": "code",
   "execution_count": 158,
   "metadata": {},
   "outputs": [],
   "source": [
    "cnt = 1\n",
    "flagged['oddsRank'] = pd.Series([0] * flagged.shape[0])\n",
    "flagged.loc[flagged['newRace'], 'oddRank'] = 1\n",
    "for i in flagged.index:\n",
    "    if flagged.loc[i, 'newRace']:\n",
    "        cnt = 1\n",
    "    flagged.loc[i, 'oddsRank'] = cnt\n",
    "    cnt += 1"
   ]
  },
  {
   "cell_type": "code",
   "execution_count": 150,
   "metadata": {},
   "outputs": [
    {
     "output_type": "execute_result",
     "data": {
      "text/plain": [
       "              date track  race\n",
       "117443  2021-06-24    WO     8\n",
       "115159  2020-01-01   AQU     1\n",
       "115157  2020-01-01   AQU     1\n",
       "115158  2020-01-01   AQU     1\n",
       "115161  2020-01-01   AQU     1\n",
       "...            ...   ...   ...\n",
       "117433  2021-06-24    WO     8\n",
       "117441  2021-06-24    WO     8\n",
       "117440  2021-06-24    WO     8\n",
       "117434  2021-06-24    WO     8\n",
       "117439  2021-06-24    WO     8\n",
       "\n",
       "[356260 rows x 3 columns]"
      ],
      "text/html": "<div>\n<style scoped>\n    .dataframe tbody tr th:only-of-type {\n        vertical-align: middle;\n    }\n\n    .dataframe tbody tr th {\n        vertical-align: top;\n    }\n\n    .dataframe thead th {\n        text-align: right;\n    }\n</style>\n<table border=\"1\" class=\"dataframe\">\n  <thead>\n    <tr style=\"text-align: right;\">\n      <th></th>\n      <th>date</th>\n      <th>track</th>\n      <th>race</th>\n    </tr>\n  </thead>\n  <tbody>\n    <tr>\n      <th>117443</th>\n      <td>2021-06-24</td>\n      <td>WO</td>\n      <td>8</td>\n    </tr>\n    <tr>\n      <th>115159</th>\n      <td>2020-01-01</td>\n      <td>AQU</td>\n      <td>1</td>\n    </tr>\n    <tr>\n      <th>115157</th>\n      <td>2020-01-01</td>\n      <td>AQU</td>\n      <td>1</td>\n    </tr>\n    <tr>\n      <th>115158</th>\n      <td>2020-01-01</td>\n      <td>AQU</td>\n      <td>1</td>\n    </tr>\n    <tr>\n      <th>115161</th>\n      <td>2020-01-01</td>\n      <td>AQU</td>\n      <td>1</td>\n    </tr>\n    <tr>\n      <th>...</th>\n      <td>...</td>\n      <td>...</td>\n      <td>...</td>\n    </tr>\n    <tr>\n      <th>117433</th>\n      <td>2021-06-24</td>\n      <td>WO</td>\n      <td>8</td>\n    </tr>\n    <tr>\n      <th>117441</th>\n      <td>2021-06-24</td>\n      <td>WO</td>\n      <td>8</td>\n    </tr>\n    <tr>\n      <th>117440</th>\n      <td>2021-06-24</td>\n      <td>WO</td>\n      <td>8</td>\n    </tr>\n    <tr>\n      <th>117434</th>\n      <td>2021-06-24</td>\n      <td>WO</td>\n      <td>8</td>\n    </tr>\n    <tr>\n      <th>117439</th>\n      <td>2021-06-24</td>\n      <td>WO</td>\n      <td>8</td>\n    </tr>\n  </tbody>\n</table>\n<p>356260 rows × 3 columns</p>\n</div>"
     },
     "metadata": {},
     "execution_count": 150
    }
   ],
   "source": [
    "cop = horses[cols].copy()\n",
    "cop = pd.concat([pd.DataFrame([cop.iloc[-1, :].copy()]), cop])\n",
    "cop = cop.iloc[:-1, :]\n",
    "cop"
   ]
  },
  {
   "cell_type": "code",
   "execution_count": 58,
   "metadata": {},
   "outputs": [
    {
     "output_type": "execute_result",
     "data": {
      "text/plain": [
       "              date track  race\n",
       "115159  2020-01-01   AQU   1.0\n",
       "115157  2020-01-01   AQU   1.0\n",
       "115158  2020-01-01   AQU   1.0\n",
       "115161  2020-01-01   AQU   1.0\n",
       "115160  2020-01-01   AQU   1.0\n",
       "...            ...   ...   ...\n",
       "117441  2021-06-24    WO   8.0\n",
       "117440  2021-06-24    WO   8.0\n",
       "117434  2021-06-24    WO   8.0\n",
       "117439  2021-06-24    WO   8.0\n",
       "117443         NaN   NaN   NaN\n",
       "\n",
       "[356260 rows x 3 columns]"
      ],
      "text/html": "<div>\n<style scoped>\n    .dataframe tbody tr th:only-of-type {\n        vertical-align: middle;\n    }\n\n    .dataframe tbody tr th {\n        vertical-align: top;\n    }\n\n    .dataframe thead th {\n        text-align: right;\n    }\n</style>\n<table border=\"1\" class=\"dataframe\">\n  <thead>\n    <tr style=\"text-align: right;\">\n      <th></th>\n      <th>date</th>\n      <th>track</th>\n      <th>race</th>\n    </tr>\n  </thead>\n  <tbody>\n    <tr>\n      <th>115159</th>\n      <td>2020-01-01</td>\n      <td>AQU</td>\n      <td>1.0</td>\n    </tr>\n    <tr>\n      <th>115157</th>\n      <td>2020-01-01</td>\n      <td>AQU</td>\n      <td>1.0</td>\n    </tr>\n    <tr>\n      <th>115158</th>\n      <td>2020-01-01</td>\n      <td>AQU</td>\n      <td>1.0</td>\n    </tr>\n    <tr>\n      <th>115161</th>\n      <td>2020-01-01</td>\n      <td>AQU</td>\n      <td>1.0</td>\n    </tr>\n    <tr>\n      <th>115160</th>\n      <td>2020-01-01</td>\n      <td>AQU</td>\n      <td>1.0</td>\n    </tr>\n    <tr>\n      <th>...</th>\n      <td>...</td>\n      <td>...</td>\n      <td>...</td>\n    </tr>\n    <tr>\n      <th>117441</th>\n      <td>2021-06-24</td>\n      <td>WO</td>\n      <td>8.0</td>\n    </tr>\n    <tr>\n      <th>117440</th>\n      <td>2021-06-24</td>\n      <td>WO</td>\n      <td>8.0</td>\n    </tr>\n    <tr>\n      <th>117434</th>\n      <td>2021-06-24</td>\n      <td>WO</td>\n      <td>8.0</td>\n    </tr>\n    <tr>\n      <th>117439</th>\n      <td>2021-06-24</td>\n      <td>WO</td>\n      <td>8.0</td>\n    </tr>\n    <tr>\n      <th>117443</th>\n      <td>NaN</td>\n      <td>NaN</td>\n      <td>NaN</td>\n    </tr>\n  </tbody>\n</table>\n<p>356260 rows × 3 columns</p>\n</div>"
     },
     "metadata": {},
     "execution_count": 58
    }
   ],
   "source": [
    "cop"
   ]
  }
 ]
}