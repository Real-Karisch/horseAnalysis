{
 "metadata": {
  "language_info": {
   "codemirror_mode": {
    "name": "ipython",
    "version": 3
   },
   "file_extension": ".py",
   "mimetype": "text/x-python",
   "name": "python",
   "nbconvert_exporter": "python",
   "pygments_lexer": "ipython3",
   "version": "3.8.5"
  },
  "orig_nbformat": 4,
  "kernelspec": {
   "name": "python3",
   "display_name": "Python 3.8.5 64-bit ('base': conda)"
  },
  "interpreter": {
   "hash": "e7ad3e331d89125a35e1aa51e4cbfadb7339476d992231fff57158d187b2117c"
  }
 },
 "nbformat": 4,
 "nbformat_minor": 2,
 "cells": [
  {
   "cell_type": "code",
   "execution_count": 1,
   "metadata": {},
   "outputs": [],
   "source": [
    "import numpy as np\n",
    "import pandas as pd\n",
    "import matplotlib.pyplot as plt\n",
    "import seaborn as sns\n",
    "import statsmodels.formula.api as smf\n",
    "\n",
    "from analysis import *"
   ]
  },
  {
   "cell_type": "code",
   "execution_count": 3,
   "metadata": {},
   "outputs": [],
   "source": [
    "horses = pd.read_csv('./../data/horses.csv', dtype=horsedtype)\n",
    "races = pd.read_csv('./../data/races.csv', dtype=racedtype)\n",
    "\n",
    "horses['date'] = pd.to_datetime(horses['date'])\n",
    "races['date'] = pd.to_datetime(races['date'])\n",
    "races['startTime'] = pd.to_datetime(races['startTime'])"
   ]
  },
  {
   "cell_type": "code",
   "execution_count": 4,
   "metadata": {},
   "outputs": [],
   "source": [
    "horses['placeFin'] = pd.Series([np.nan] * horses.shape[0])\n",
    "horses['lengthsBackFin'] = pd.Series([np.nan] * horses.shape[0])\n",
    "for i in reversed(range(1, 7)):\n",
    "    horses.loc[horses['placeFin'].isnull(),'placeFin'] = horses.loc[horses['placeFin'].isnull(), 'placeSeg' + str(i)]\n",
    "    horses.loc[horses['lengthsBackFin'].isnull(),'lengthsBackFin'] = horses.loc[horses['lengthsBackFin'].isnull(), 'rlLengthsSeg' + str(i)]\n",
    "\n",
    "horses.loc[horses['placeFin'] == 1, 'lengthsBackFin'] = 0\n",
    "\n",
    "horses = horses.sort_values(by=['date', 'track', 'race', 'odds'])\n",
    "horses = flagNew(horses, flagColName='newRace', cols=['date', 'track', 'race'])\n",
    "horses = iterateFlagNew(horses, flagColName='newRace', iterateColName='oddsRank').sort_index()\n",
    "horses['probability'] = 1 / (horses['odds'] + 1)\n",
    "\n",
    "horses = pd.merge(horses, horses[['track','date','race','lengthsBackFin']].groupby(['track','date','race']).mean().rename(columns={'lengthsBackFin':'avgLengthsBack'}), on=['track', 'date', 'race'])\n",
    "horses['diffFromAvg'] = horses['avgLengthsBack'] - horses['lengthsBackFin']"
   ]
  },
  {
   "cell_type": "code",
   "execution_count": 5,
   "metadata": {},
   "outputs": [],
   "source": [
    "combined = pd.merge(left=races, right=horses, how='inner', on=['track', 'date', 'race'])"
   ]
  },
  {
   "cell_type": "code",
   "execution_count": 6,
   "metadata": {},
   "outputs": [
    {
     "output_type": "stream",
     "name": "stdout",
     "text": [
      "For bet favorite to win: spent: 90710 ; earned: 79658.40000000001 ; net income: -11051.599999999991\n"
     ]
    }
   ],
   "source": [
    "subset = combined.loc[(combined['oddsRank'] == 1) & (combined['placeFin'] == 1)]\n",
    "#note: assumes $2 bet\n",
    "winnings = subset['firstPlaceWin'].sum()\n",
    "spent = combined.loc[~(combined['firstPlaceWin'].isnull()), ['track','date','race']].drop_duplicates().shape[0] * 2\n",
    "print('For bet favorite to win: spent:', spent, '; earned:', winnings, '; net income:', winnings - spent)"
   ]
  },
  {
   "cell_type": "code",
   "execution_count": 7,
   "metadata": {},
   "outputs": [
    {
     "output_type": "stream",
     "name": "stdout",
     "text": [
      "For bet second favorite to place: spent: 90144 ; earned: 98589.7 ; net income: 8445.699999999997\n"
     ]
    }
   ],
   "source": [
    "subset = combined.loc[(combined['oddsRank'] == 2) & (combined['placeFin'] <= 2)]\n",
    "#note: assumes $2 bet\n",
    "winnings = subset['secondPlacePlace'].sum()\n",
    "spent = combined.loc[~(combined['secondPlacePlace'].isnull()), ['track','date','race']].drop_duplicates().shape[0] * 2\n",
    "print('For bet second favorite to place: spent:', spent, '; earned:', winnings, '; net income:', winnings - spent)"
   ]
  },
  {
   "cell_type": "code",
   "execution_count": 8,
   "metadata": {},
   "outputs": [
    {
     "output_type": "stream",
     "name": "stdout",
     "text": [
      "For bet third favorite to show: spent: 84776 ; earned: 84074.6 ; net income: -701.3999999999942\n"
     ]
    }
   ],
   "source": [
    "subset = combined.loc[(combined['oddsRank'] == 3) & (combined['placeFin'] <= 3)]\n",
    "#note: assumes $2 bet\n",
    "winnings = subset['thirdPlaceShow'].sum()\n",
    "spent = combined.loc[~(combined['thirdPlaceShow'].isnull()), ['track','date','race']].drop_duplicates().shape[0] * 2\n",
    "print('For bet third favorite to show: spent:', spent, '; earned:', winnings, '; net income:', winnings - spent)"
   ]
  },
  {
   "cell_type": "code",
   "execution_count": 9,
   "metadata": {},
   "outputs": [
    {
     "output_type": "stream",
     "name": "stdout",
     "text": [
      "For bet exacta on two favorites: spent: 88068 ; earned: 75376.0 ; net income: -12692.0\n"
     ]
    }
   ],
   "source": [
    "exactaSet = combined.loc[((combined['oddsRank'] == 1) & (combined['placeFin'] == 1)) | ((combined['oddsRank'] == 2) & (combined['placeFin'] == 2))]\n",
    "exactaSet = exactaSet.loc[exactaSet.duplicated(subset=['track', 'date', 'race'], keep=False)]\n",
    "exactaSet = exactaSet.loc[exactaSet['oddsRank'] == 1]\n",
    "exactaSet = exactaSet.loc[~exactaSet['exactaPayout'].isnull()]\n",
    "exactaMultiplier = 2 / pd.to_numeric(exactaSet['exactaBuyin'].str.extract('\\$(.*)')[0])\n",
    "winnings = (exactaMultiplier * exactaSet['exactaPayout']).sum()\n",
    "spent = combined.loc[~(combined['exactaPayout'].isnull()), ['track','date','race']].drop_duplicates().shape[0] * 2\n",
    "print('For bet exacta on two favorites: spent:', spent, '; earned:', winnings, '; net income:', winnings - spent)"
   ]
  },
  {
   "cell_type": "code",
   "execution_count": 10,
   "metadata": {},
   "outputs": [
    {
     "output_type": "stream",
     "name": "stdout",
     "text": [
      "For bet trifecta on two favorites: spent: 86802 ; earned: 70191.0 ; net income: -16611.0\n"
     ]
    }
   ],
   "source": [
    "trifectaSet = combined.loc[((combined['oddsRank'] == 1) & (combined['placeFin'] == 1)) | ((combined['oddsRank'] == 2) & (combined['placeFin'] == 2)) | ((combined['oddsRank'] == 3) & (combined['placeFin'] == 3))]\n",
    "trifectaSet = trifectaSet.loc[trifectaSet.duplicated(subset=['track', 'date', 'race'], keep='first')]\n",
    "trifectaSet = trifectaSet.loc[trifectaSet.duplicated(subset=['track', 'date', 'race'], keep='first')]\n",
    "trifectaSet = trifectaSet.loc[~trifectaSet['trifectaPayout'].isnull()]\n",
    "trifectaMultiplier = 2 / pd.to_numeric(trifectaSet['trifectaBuyin'].str.extract('\\$(.*)')[0])\n",
    "winnings = (trifectaMultiplier * trifectaSet['trifectaPayout']).sum()\n",
    "spent = combined.loc[~(combined['trifectaPayout'].isnull()), ['track','date','race']].drop_duplicates().shape[0] * 2\n",
    "print('For bet trifecta on two favorites: spent:', spent, '; earned:', winnings, '; net income:', winnings - spent)"
   ]
  }
 ]
}